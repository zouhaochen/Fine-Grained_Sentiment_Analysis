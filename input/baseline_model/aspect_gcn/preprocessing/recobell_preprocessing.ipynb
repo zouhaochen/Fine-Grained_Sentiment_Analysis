{
 "cells": [
  {
   "cell_type": "code",
   "execution_count": 1,
   "metadata": {},
   "outputs": [],
   "source": [
    "import pandas as pd\n",
    "import numpy as np\n",
    "import csv\n",
    "import datetime \n",
    "# import time\n",
    "\n",
    "%matplotlib inline\n",
    "import matplotlib.pyplot as plt \n",
    "import seaborn as sns\n",
    "\n",
    "from sklearn.model_selection import train_test_split\n",
    "from sklearn.linear_model import LogisticRegression\n",
    "from sklearn import metrics\n",
    "from src import settings\n",
    "\n",
    "recobell_root_path = settings.DATA_ROOT_PATH + \"/site_data/recobell/\""
   ]
  },
  {
   "cell_type": "code",
   "execution_count": 3,
   "metadata": {},
   "outputs": [
    {
     "name": "stdout",
     "output_type": "stream",
     "text": [
      "       uid   itemid        time\n",
      "0  b15f9e5  d9886b1  1471066727\n",
      "1  8007201  e295b87  1471156894\n",
      "2  8007201  cedc044  1471156677\n",
      "3  99055ba  4f3ecec  1470917081\n",
      "4  99055ba  ee3f827  1470916631\n"
     ]
    }
   ],
   "source": [
    "explicit_recobell_df = pd.read_csv(recobell_root_path + '_implicit.clean.txt', header=None, names=['uid', 'itemid', 'time'])\n",
    "print(explicit_recobell_df.head())\n",
    "# active_item_df = pd.read_csv(recobell_root_path + 'item_repr.txt', header=None, names=['itemid', 'repr'], delimiter=',', quotechar='|', skiprows=1)\n",
    "# active_item_df.head()"
   ]
  },
  {
   "cell_type": "code",
   "execution_count": 4,
   "metadata": {},
   "outputs": [
    {
     "name": "stdout",
     "output_type": "stream",
     "text": [
      "118293\n"
     ]
    }
   ],
   "source": [
    "# load list key for i2index\n",
    "with open(recobell_root_path + 'i2index.txt') as f:\n",
    "    active_item_dict = {str(line.split(',')[0]): int(line.split(',')[1]) for line in f}\n",
    "active_item_list = active_item_dict.keys()\n",
    "print(len(active_item_list))"
   ]
  },
  {
   "cell_type": "code",
   "execution_count": 5,
   "metadata": {},
   "outputs": [
    {
     "name": "stdout",
     "output_type": "stream",
     "text": [
      "206203\n"
     ]
    }
   ],
   "source": [
    "# list key index from u2index.\n",
    "with open(recobell_root_path + 'u2index.txt') as f:\n",
    "    active_user_dict = {str(line.split(',')[0]): int(line.split(',')[1]) for line in f}\n",
    "active_user_list = active_user_dict.keys()\n",
    "print(len(active_user_list))"
   ]
  },
  {
   "cell_type": "code",
   "execution_count": 6,
   "metadata": {
    "scrolled": true
   },
   "outputs": [
    {
     "name": "stdout",
     "output_type": "stream",
     "text": [
      "explicit recobell df before:\n",
      "       uid   itemid        time\n",
      "3  99055ba  4f3ecec  1470917081\n",
      "4  99055ba  ee3f827  1470916631\n",
      "5  99055ba  4f958e5  1470844977\n",
      "6  99055ba  51f86bb  1470811668\n",
      "7  99055ba  32f8032  1470811985\n"
     ]
    }
   ],
   "source": [
    "# loai bo tuong tac ma user khong co trong active_user_list\n",
    "explicit_recobell_df = explicit_recobell_df[explicit_recobell_df.uid.isin(active_user_list)]\n",
    "explicit_recobell_df = explicit_recobell_df[explicit_recobell_df.itemid.isin(active_item_list)]\n",
    "\n",
    "print 'explicit recobell df before:'\n",
    "print (explicit_recobell_df.head())\n"
   ]
  },
  {
   "cell_type": "code",
   "execution_count": 7,
   "metadata": {},
   "outputs": [
    {
     "name": "stdout",
     "output_type": "stream",
     "text": [
      "Sorting by uid and time giam dan (cang xa so voi hien tai):\n",
      "       uid   itemid        time\n",
      "0  0000516  2d5ff79  1470970249\n",
      "1  0000516  f5668cf  1470964138\n",
      "2  0000516  ad0a963  1470964065\n",
      "3  0000516  2d5ff79  1470963920\n",
      "4  0000516  2d5ff79  1470962566\n",
      "5  0000516  2d5ff79  1470962554\n",
      "6  0000516  2d5ff79  1470962463\n",
      "7  0000516  2d5ff79  1470962202\n",
      "8  0000516  2d5ff79  1470962090\n",
      "9  0000516  2d5ff79  1470961539\n"
     ]
    }
   ],
   "source": [
    "print 'Sorting by uid and time giam dan (cang xa so voi hien tai):'\n",
    "# a = retail_rocket_df.sort_values(by=['uid'])\n",
    "explicit_recobell_df = explicit_recobell_df.groupby([\"uid\"]).apply(lambda x: x.sort_values([\"time\"], ascending = False)).reset_index(drop=True)\n",
    "print (explicit_recobell_df[:10])"
   ]
  },
  {
   "cell_type": "code",
   "execution_count": null,
   "metadata": {},
   "outputs": [],
   "source": [
    "# thay the rating ban dau boi user_id, item_id moi trong u2index va i2index.\n",
    "explicit_recobell_df = explicit_recobell_df.apply(lambda x: [active_user_dict[x[0]], active_item_dict[x[1]]], axis=1, result_type='expand')\n",
    "print(explicit_recobell_df.head())"
   ]
  },
  {
   "cell_type": "code",
   "execution_count": 11,
   "metadata": {},
   "outputs": [],
   "source": [
    "explicit_recobell_df.to_csv(recobell_root_path + 'ui_ex.txt', index=False, header=False)"
   ]
  },
  {
   "cell_type": "markdown",
   "metadata": {},
   "source": [
    "# Sorting ratings.txt"
   ]
  },
  {
   "cell_type": "code",
   "execution_count": 2,
   "metadata": {},
   "outputs": [
    {
     "name": "stdout",
     "output_type": "stream",
     "text": [
      "   uid  itemid  time_implicit  number_im  time_explicit  number_ex\n",
      "0    0       0     1470917081          2             -1          0\n",
      "1    0       1     1470916631          1             -1          0\n",
      "2    0       2     1470844977          1             -1          0\n",
      "3    0       3     1470811668          1             -1          0\n",
      "4    0       4     1470811985          2             -1          0\n"
     ]
    }
   ],
   "source": [
    "recobell_df = pd.read_csv(recobell_root_path + 'ratings.txt', header=None, names=['uid', 'itemid', 'time_implicit','number_im','time_explicit','number_ex'])\n",
    "print(recobell_df.head())"
   ]
  },
  {
   "cell_type": "code",
   "execution_count": 3,
   "metadata": {
    "collapsed": true
   },
   "outputs": [
    {
     "name": "stdout",
     "output_type": "stream",
     "text": [
      "Sorting by uid and time tang dan (tu qua khu cho den bay gio):\n",
      "    uid  itemid  time_implicit  number_im  time_explicit  number_ex\n",
      "0     0      15     1470701505          1             -1          0\n",
      "1     0       5     1470701744          2             -1          0\n",
      "2     0       3     1470811668          1             -1          0\n",
      "3     0      14     1470811765          1             -1          0\n",
      "4     0       4     1470811985          2             -1          0\n",
      "5     0       2     1470844977          1             -1          0\n",
      "6     0      13     1470845413          1             -1          0\n",
      "7     0       1     1470916631          1             -1          0\n",
      "8     0      12     1470917017          1             -1          0\n",
      "9     0       0     1470917081          2             -1          0\n",
      "10    0    1182     1471189847          1             -1          0\n",
      "11    0     277     1471190697          2             -1          0\n",
      "12    1      10     1470644889          3             -1          0\n",
      "13    1      32     1470645277          1             -1          0\n",
      "14    1       9     1470820504          1             -1          0\n",
      "15    1      31     1470821280          1             -1          0\n",
      "16    1       8     1470843750          2             -1          0\n",
      "17    1       7     1470895782          5             -1          0\n",
      "18    1      30     1470989042          1             -1          0\n",
      "19    1       6     1471021005          1             -1          0\n",
      "20    2      33     1471160365          1             -1          0\n",
      "21    2    1282     1471160446          1             -1          0\n",
      "22    2    7330     1471160589          1             -1          0\n",
      "23    2    7328     1471160817          1             -1          0\n",
      "24    2    2566     1471160829          1             -1          0\n",
      "25    2      11     1471160940          2             -1          0\n",
      "26    3      20     1470911130          2             -1          0\n",
      "27    3      17     1470911148          1             -1          0\n",
      "28    3      45     1470911395          1             -1          0\n",
      "29    3      43     1470911422          2             -1          0\n",
      "30    3      16     1470911511          2             -1          0\n",
      "31    3      44     1470911890          1             -1          0\n",
      "32    3      19     1470911972          1             -1          0\n",
      "33    3      18     1470911998          1             -1          0\n",
      "34    4      57     1470636239          1             -1          0\n",
      "35    4      29     1470666476          3     1470666476          1\n",
      "36    4      28     1470710071          2     1470710071          1\n",
      "37    4      49     1470717908          1             -1          0\n",
      "38    4      27     1470823988          2             -1          0\n",
      "39    4      26     1470824082          2             -1          0\n",
      "40    4      48     1470906543          1             -1          0\n",
      "41    4      25     1470927813          1             -1          0\n",
      "42    4      47     1471052905          1             -1          0\n",
      "43    4      24     1471052987          2             -1          0\n",
      "44    4      46     1471082500          1             -1          0\n",
      "45    4      22     1471082547          1             -1          0\n",
      "46    4      23     1471082654          3             -1          0\n",
      "47    4      21     1471082811          1             -1          0\n",
      "48    5      42     1470589969          1     1470589969          1\n",
      "49    5      38     1470725432          1             -1          0\n"
     ]
    }
   ],
   "source": [
    "print 'Sorting by uid and time tang dan (tu qua khu cho den bay gio):'\n",
    "recobell_df = recobell_df.groupby([\"uid\"]).apply(lambda x: x.sort_values([\"time_implicit\"], ascending = True)).reset_index(drop=True)\n",
    "print (recobell_df[:50])"
   ]
  },
  {
   "cell_type": "code",
   "execution_count": 4,
   "metadata": {},
   "outputs": [],
   "source": [
    "# in ra file \n",
    "recobell_df.to_csv(recobell_root_path + 'ratings_sort_tuc.txt', index=False, header=False)"
   ]
  },
  {
   "cell_type": "markdown",
   "metadata": {},
   "source": [
    "# generate item representation."
   ]
  },
  {
   "cell_type": "code",
   "execution_count": 9,
   "metadata": {},
   "outputs": [
    {
     "name": "stdout",
     "output_type": "stream",
     "text": [
      "   itemid                                               repr\n",
      "0    3506  [[17, 0.25], [80, 0.25], [219, 0.25], [464, 0....\n",
      "1    2293  [[16, 0.25], [46, 0.25], [335, 0.25], [1892, 0...\n",
      "2    6555  [[9, 0.25], [83, 0.25], [153, 0.25], [1854, 0....\n",
      "3    8448  [[6, 0.25], [82, 0.25], [249, 0.25], [832, 0.25]]\n",
      "4    1818  [[1, 0.25], [38, 0.25], [286, 0.25], [841, 0.25]]\n",
      "/home/tucng/Desktop/RS/project/src/site_data/recobell/\n"
     ]
    }
   ],
   "source": [
    "# using item_repr.txt was made before to generate vector for this item.\n",
    "active_item_df = pd.read_csv(recobell_root_path + 'item_repr.txt', header=None, names=['itemid', 'repr'], delimiter=',', quotechar='|', skiprows=1)\n",
    "print(active_item_df.head())"
   ]
  },
  {
   "cell_type": "code",
   "execution_count": 15,
   "metadata": {},
   "outputs": [
    {
     "name": "stdout",
     "output_type": "stream",
     "text": [
      "[[14, 0.25], [73, 0.25], [426, 0.25], [1620, 0.25]]\n",
      "[[17, 0.25], [80, 0.25], [219, 0.25], [464, 0.25]]\n"
     ]
    }
   ],
   "source": [
    "# make a dictionary for each item \n",
    "# each of element is a key of item and value of categories\n",
    "item_repr_dict = {}\n",
    "for _, row in active_item_df.iterrows():\n",
    "    item_repr_dict[row[0]] = row[1]\n",
    "\n",
    "print(item_repr_dict[0])\n",
    "print(item_repr_dict[3506])"
   ]
  },
  {
   "cell_type": "code",
   "execution_count": 17,
   "metadata": {},
   "outputs": [],
   "source": [
    "explicit_recobell_df['num'] = 1"
   ]
  },
  {
   "cell_type": "code",
   "execution_count": 19,
   "metadata": {},
   "outputs": [
    {
     "data": {
      "text/html": [
       "<div>\n",
       "<style scoped>\n",
       "    .dataframe tbody tr th:only-of-type {\n",
       "        vertical-align: middle;\n",
       "    }\n",
       "\n",
       "    .dataframe tbody tr th {\n",
       "        vertical-align: top;\n",
       "    }\n",
       "\n",
       "    .dataframe thead th {\n",
       "        text-align: right;\n",
       "    }\n",
       "</style>\n",
       "<table border=\"1\" class=\"dataframe\">\n",
       "  <thead>\n",
       "    <tr style=\"text-align: right;\">\n",
       "      <th></th>\n",
       "      <th>uid</th>\n",
       "      <th>itemid</th>\n",
       "      <th>num</th>\n",
       "    </tr>\n",
       "  </thead>\n",
       "  <tbody>\n",
       "    <tr>\n",
       "      <th>0</th>\n",
       "      <td>0</td>\n",
       "      <td>0</td>\n",
       "      <td>1</td>\n",
       "    </tr>\n",
       "    <tr>\n",
       "      <th>1</th>\n",
       "      <td>0</td>\n",
       "      <td>3</td>\n",
       "      <td>1</td>\n",
       "    </tr>\n",
       "    <tr>\n",
       "      <th>2</th>\n",
       "      <td>0</td>\n",
       "      <td>4</td>\n",
       "      <td>1</td>\n",
       "    </tr>\n",
       "    <tr>\n",
       "      <th>3</th>\n",
       "      <td>0</td>\n",
       "      <td>6</td>\n",
       "      <td>1</td>\n",
       "    </tr>\n",
       "    <tr>\n",
       "      <th>4</th>\n",
       "      <td>0</td>\n",
       "      <td>7</td>\n",
       "      <td>1</td>\n",
       "    </tr>\n",
       "  </tbody>\n",
       "</table>\n",
       "</div>"
      ],
      "text/plain": [
       "   uid  itemid  num\n",
       "0    0       0    1\n",
       "1    0       3    1\n",
       "2    0       4    1\n",
       "3    0       6    1\n",
       "4    0       7    1"
      ]
     },
     "execution_count": 19,
     "metadata": {},
     "output_type": "execute_result"
    }
   ],
   "source": [
    "explicit_recobell_df.columns = ['uid', 'itemid', 'num']\n",
    "explicit_recobell_df.head()"
   ]
  },
  {
   "cell_type": "code",
   "execution_count": 22,
   "metadata": {},
   "outputs": [],
   "source": [
    "import json\n",
    "\n",
    "def json_string_to_dense_vector(string_vector, dimensions):\n",
    "    \"\"\"\n",
    "    Chuyen vector thua dang string: [[9, 0.010176822], [118, 0.010578092], [264, 0.020403702]]\n",
    "    ve vector thuong K chieu cua numpy\n",
    "    \"\"\"\n",
    "    K = dimensions\n",
    "\n",
    "    vector = np.zeros(K, dtype=np.float32)\n",
    "    if string_vector is None or len(string_vector) < 1:\n",
    "        return vector\n",
    "\n",
    "    x = json.loads(string_vector)\n",
    "    \n",
    "    for element in x:\n",
    "        vector[element[0]] = element[1]\n",
    "    return vector"
   ]
  },
  {
   "cell_type": "code",
   "execution_count": 23,
   "metadata": {},
   "outputs": [],
   "source": [
    "def dense_vector_to_list_sparse_vector(vector):\n",
    "    \"\"\"\n",
    "    Chuyen vector np ve vector thua dang string: [[9, 0.010176822], [118, 0.010578092], [264, 0.020403702]]\n",
    "    \"\"\"\n",
    "    K = len(vector)\n",
    "    threshold = 1e-6\n",
    "\n",
    "    list_temp = []\n",
    "    for i in range(0, K):\n",
    "        if vector[i] > threshold:\n",
    "            list_temp.append([i, float(vector[i])])\n",
    "    return list_temp"
   ]
  },
  {
   "cell_type": "code",
   "execution_count": 24,
   "metadata": {},
   "outputs": [],
   "source": [
    "def list_sparse_vector_to_json_string(sv):\n",
    "    # type: (list) -> str\n",
    "    \"\"\"Convert vector in the form list of (int, float) to string\n",
    "\n",
    "    Parameters\n",
    "    ----------\n",
    "    sv : list of (int, float)\n",
    "        sparse_vector to be converted\n",
    "\n",
    "    Examples\n",
    "    ---------\n",
    "    >>> sparse_vector = [(1, 0.123232), (2, 5.34234234)]\n",
    "    >>> list_sparse_vector_to_json_string(sparse_vector)\n",
    "    '[[1, 0.123232], [2, 5.34234234]]'\n",
    "    \"\"\"\n",
    "\n",
    "    sum = 0\n",
    "    list_sparse = []\n",
    "\n",
    "    for item in sv:\n",
    "        sum += item[1]\n",
    "\n",
    "    for item in sv:\n",
    "        list_sparse.append([int(item[0]), float(item[1] / sum)])\n",
    "\n",
    "    return json.dumps(list_sparse)\n"
   ]
  },
  {
   "cell_type": "code",
   "execution_count": null,
   "metadata": {},
   "outputs": [],
   "source": [
    "def add_avg()"
   ]
  },
  {
   "cell_type": "code",
   "execution_count": 27,
   "metadata": {},
   "outputs": [
    {
     "data": {
      "text/html": [
       "<div>\n",
       "<style scoped>\n",
       "    .dataframe tbody tr th:only-of-type {\n",
       "        vertical-align: middle;\n",
       "    }\n",
       "\n",
       "    .dataframe tbody tr th {\n",
       "        vertical-align: top;\n",
       "    }\n",
       "\n",
       "    .dataframe thead th {\n",
       "        text-align: right;\n",
       "    }\n",
       "</style>\n",
       "<table border=\"1\" class=\"dataframe\">\n",
       "  <thead>\n",
       "    <tr style=\"text-align: right;\">\n",
       "      <th></th>\n",
       "      <th>uid</th>\n",
       "      <th>itemid</th>\n",
       "      <th>num</th>\n",
       "    </tr>\n",
       "  </thead>\n",
       "  <tbody>\n",
       "    <tr>\n",
       "      <th>0</th>\n",
       "      <td>0</td>\n",
       "      <td>0</td>\n",
       "      <td>1</td>\n",
       "    </tr>\n",
       "    <tr>\n",
       "      <th>1</th>\n",
       "      <td>0</td>\n",
       "      <td>3</td>\n",
       "      <td>1</td>\n",
       "    </tr>\n",
       "    <tr>\n",
       "      <th>2</th>\n",
       "      <td>0</td>\n",
       "      <td>4</td>\n",
       "      <td>1</td>\n",
       "    </tr>\n",
       "    <tr>\n",
       "      <th>3</th>\n",
       "      <td>0</td>\n",
       "      <td>6</td>\n",
       "      <td>1</td>\n",
       "    </tr>\n",
       "    <tr>\n",
       "      <th>4</th>\n",
       "      <td>0</td>\n",
       "      <td>7</td>\n",
       "      <td>1</td>\n",
       "    </tr>\n",
       "  </tbody>\n",
       "</table>\n",
       "</div>"
      ],
      "text/plain": [
       "   uid  itemid  num\n",
       "0    0       0    1\n",
       "1    0       3    1\n",
       "2    0       4    1\n",
       "3    0       6    1\n",
       "4    0       7    1"
      ]
     },
     "execution_count": 27,
     "metadata": {},
     "output_type": "execute_result"
    }
   ],
   "source": [
    "explicit_recobell_df.head()"
   ]
  },
  {
   "cell_type": "code",
   "execution_count": 25,
   "metadata": {
    "collapsed": true
   },
   "outputs": [
    {
     "ename": "TypeError",
     "evalue": "('expected string or buffer', u'occurred at index 0')",
     "output_type": "error",
     "traceback": [
      "\u001b[0;31m---------------------------------------------------------------------------\u001b[0m",
      "\u001b[0;31mTypeError\u001b[0m                                 Traceback (most recent call last)",
      "\u001b[0;32m<ipython-input-25-9fdc2ada3863>\u001b[0m in \u001b[0;36m<module>\u001b[0;34m()\u001b[0m\n\u001b[0;32m----> 1\u001b[0;31m \u001b[0mt\u001b[0m \u001b[0;34m=\u001b[0m \u001b[0mexplicit_recobell_df\u001b[0m\u001b[0;34m.\u001b[0m\u001b[0mapply\u001b[0m\u001b[0;34m(\u001b[0m\u001b[0;32mlambda\u001b[0m \u001b[0mx\u001b[0m\u001b[0;34m:\u001b[0m \u001b[0;34m[\u001b[0m\u001b[0mx\u001b[0m\u001b[0;34m[\u001b[0m\u001b[0;36m0\u001b[0m\u001b[0;34m]\u001b[0m\u001b[0;34m,\u001b[0m \u001b[0mjson_string_to_dense_vector\u001b[0m\u001b[0;34m(\u001b[0m\u001b[0;34m[\u001b[0m\u001b[0mx\u001b[0m\u001b[0;34m[\u001b[0m\u001b[0;36m1\u001b[0m\u001b[0;34m]\u001b[0m\u001b[0;34m]\u001b[0m\u001b[0;34m,\u001b[0m \u001b[0;36m1939\u001b[0m\u001b[0;34m)\u001b[0m\u001b[0;34m,\u001b[0m \u001b[0mx\u001b[0m\u001b[0;34m[\u001b[0m\u001b[0;36m2\u001b[0m\u001b[0;34m]\u001b[0m\u001b[0;34m]\u001b[0m\u001b[0;34m,\u001b[0m \u001b[0maxis\u001b[0m\u001b[0;34m=\u001b[0m\u001b[0;36m1\u001b[0m\u001b[0;34m,\u001b[0m \u001b[0mresult_type\u001b[0m\u001b[0;34m=\u001b[0m\u001b[0;34m'expand'\u001b[0m\u001b[0;34m)\u001b[0m\u001b[0;34m.\u001b[0m\u001b[0mgroupby\u001b[0m\u001b[0;34m(\u001b[0m\u001b[0mby\u001b[0m\u001b[0;34m=\u001b[0m\u001b[0;34m[\u001b[0m\u001b[0;34m'0'\u001b[0m\u001b[0;34m]\u001b[0m\u001b[0;34m)\u001b[0m\u001b[0;34m\u001b[0m\u001b[0;34m\u001b[0m\u001b[0m\n\u001b[0m\u001b[1;32m      2\u001b[0m \u001b[0;32mprint\u001b[0m\u001b[0;34m(\u001b[0m\u001b[0mt\u001b[0m\u001b[0;34m.\u001b[0m\u001b[0mhead\u001b[0m\u001b[0;34m(\u001b[0m\u001b[0;34m)\u001b[0m\u001b[0;34m)\u001b[0m\u001b[0;34m\u001b[0m\u001b[0;34m\u001b[0m\u001b[0m\n",
      "\u001b[0;32m/home/tucng/.local/lib/python2.7/site-packages/pandas/core/frame.pyc\u001b[0m in \u001b[0;36mapply\u001b[0;34m(self, func, axis, broadcast, raw, reduce, result_type, args, **kwds)\u001b[0m\n\u001b[1;32m   6485\u001b[0m                          \u001b[0margs\u001b[0m\u001b[0;34m=\u001b[0m\u001b[0margs\u001b[0m\u001b[0;34m,\u001b[0m\u001b[0;34m\u001b[0m\u001b[0;34m\u001b[0m\u001b[0m\n\u001b[1;32m   6486\u001b[0m                          kwds=kwds)\n\u001b[0;32m-> 6487\u001b[0;31m         \u001b[0;32mreturn\u001b[0m \u001b[0mop\u001b[0m\u001b[0;34m.\u001b[0m\u001b[0mget_result\u001b[0m\u001b[0;34m(\u001b[0m\u001b[0;34m)\u001b[0m\u001b[0;34m\u001b[0m\u001b[0;34m\u001b[0m\u001b[0m\n\u001b[0m\u001b[1;32m   6488\u001b[0m \u001b[0;34m\u001b[0m\u001b[0m\n\u001b[1;32m   6489\u001b[0m     \u001b[0;32mdef\u001b[0m \u001b[0mapplymap\u001b[0m\u001b[0;34m(\u001b[0m\u001b[0mself\u001b[0m\u001b[0;34m,\u001b[0m \u001b[0mfunc\u001b[0m\u001b[0;34m)\u001b[0m\u001b[0;34m:\u001b[0m\u001b[0;34m\u001b[0m\u001b[0;34m\u001b[0m\u001b[0m\n",
      "\u001b[0;32m/home/tucng/.local/lib/python2.7/site-packages/pandas/core/apply.pyc\u001b[0m in \u001b[0;36mget_result\u001b[0;34m(self)\u001b[0m\n\u001b[1;32m    149\u001b[0m             \u001b[0;32mreturn\u001b[0m \u001b[0mself\u001b[0m\u001b[0;34m.\u001b[0m\u001b[0mapply_raw\u001b[0m\u001b[0;34m(\u001b[0m\u001b[0;34m)\u001b[0m\u001b[0;34m\u001b[0m\u001b[0;34m\u001b[0m\u001b[0m\n\u001b[1;32m    150\u001b[0m \u001b[0;34m\u001b[0m\u001b[0m\n\u001b[0;32m--> 151\u001b[0;31m         \u001b[0;32mreturn\u001b[0m \u001b[0mself\u001b[0m\u001b[0;34m.\u001b[0m\u001b[0mapply_standard\u001b[0m\u001b[0;34m(\u001b[0m\u001b[0;34m)\u001b[0m\u001b[0;34m\u001b[0m\u001b[0;34m\u001b[0m\u001b[0m\n\u001b[0m\u001b[1;32m    152\u001b[0m \u001b[0;34m\u001b[0m\u001b[0m\n\u001b[1;32m    153\u001b[0m     \u001b[0;32mdef\u001b[0m \u001b[0mapply_empty_result\u001b[0m\u001b[0;34m(\u001b[0m\u001b[0mself\u001b[0m\u001b[0;34m)\u001b[0m\u001b[0;34m:\u001b[0m\u001b[0;34m\u001b[0m\u001b[0;34m\u001b[0m\u001b[0m\n",
      "\u001b[0;32m/home/tucng/.local/lib/python2.7/site-packages/pandas/core/apply.pyc\u001b[0m in \u001b[0;36mapply_standard\u001b[0;34m(self)\u001b[0m\n\u001b[1;32m    255\u001b[0m \u001b[0;34m\u001b[0m\u001b[0m\n\u001b[1;32m    256\u001b[0m         \u001b[0;31m# compute the result using the series generator\u001b[0m\u001b[0;34m\u001b[0m\u001b[0;34m\u001b[0m\u001b[0;34m\u001b[0m\u001b[0m\n\u001b[0;32m--> 257\u001b[0;31m         \u001b[0mself\u001b[0m\u001b[0;34m.\u001b[0m\u001b[0mapply_series_generator\u001b[0m\u001b[0;34m(\u001b[0m\u001b[0;34m)\u001b[0m\u001b[0;34m\u001b[0m\u001b[0;34m\u001b[0m\u001b[0m\n\u001b[0m\u001b[1;32m    258\u001b[0m \u001b[0;34m\u001b[0m\u001b[0m\n\u001b[1;32m    259\u001b[0m         \u001b[0;31m# wrap results\u001b[0m\u001b[0;34m\u001b[0m\u001b[0;34m\u001b[0m\u001b[0;34m\u001b[0m\u001b[0m\n",
      "\u001b[0;32m/home/tucng/.local/lib/python2.7/site-packages/pandas/core/apply.pyc\u001b[0m in \u001b[0;36mapply_series_generator\u001b[0;34m(self)\u001b[0m\n\u001b[1;32m    284\u001b[0m             \u001b[0;32mtry\u001b[0m\u001b[0;34m:\u001b[0m\u001b[0;34m\u001b[0m\u001b[0;34m\u001b[0m\u001b[0m\n\u001b[1;32m    285\u001b[0m                 \u001b[0;32mfor\u001b[0m \u001b[0mi\u001b[0m\u001b[0;34m,\u001b[0m \u001b[0mv\u001b[0m \u001b[0;32min\u001b[0m \u001b[0menumerate\u001b[0m\u001b[0;34m(\u001b[0m\u001b[0mseries_gen\u001b[0m\u001b[0;34m)\u001b[0m\u001b[0;34m:\u001b[0m\u001b[0;34m\u001b[0m\u001b[0;34m\u001b[0m\u001b[0m\n\u001b[0;32m--> 286\u001b[0;31m                     \u001b[0mresults\u001b[0m\u001b[0;34m[\u001b[0m\u001b[0mi\u001b[0m\u001b[0;34m]\u001b[0m \u001b[0;34m=\u001b[0m \u001b[0mself\u001b[0m\u001b[0;34m.\u001b[0m\u001b[0mf\u001b[0m\u001b[0;34m(\u001b[0m\u001b[0mv\u001b[0m\u001b[0;34m)\u001b[0m\u001b[0;34m\u001b[0m\u001b[0;34m\u001b[0m\u001b[0m\n\u001b[0m\u001b[1;32m    287\u001b[0m                     \u001b[0mkeys\u001b[0m\u001b[0;34m.\u001b[0m\u001b[0mappend\u001b[0m\u001b[0;34m(\u001b[0m\u001b[0mv\u001b[0m\u001b[0;34m.\u001b[0m\u001b[0mname\u001b[0m\u001b[0;34m)\u001b[0m\u001b[0;34m\u001b[0m\u001b[0;34m\u001b[0m\u001b[0m\n\u001b[1;32m    288\u001b[0m             \u001b[0;32mexcept\u001b[0m \u001b[0mException\u001b[0m \u001b[0;32mas\u001b[0m \u001b[0me\u001b[0m\u001b[0;34m:\u001b[0m\u001b[0;34m\u001b[0m\u001b[0;34m\u001b[0m\u001b[0m\n",
      "\u001b[0;32m<ipython-input-25-9fdc2ada3863>\u001b[0m in \u001b[0;36m<lambda>\u001b[0;34m(x)\u001b[0m\n\u001b[0;32m----> 1\u001b[0;31m \u001b[0mt\u001b[0m \u001b[0;34m=\u001b[0m \u001b[0mexplicit_recobell_df\u001b[0m\u001b[0;34m.\u001b[0m\u001b[0mapply\u001b[0m\u001b[0;34m(\u001b[0m\u001b[0;32mlambda\u001b[0m \u001b[0mx\u001b[0m\u001b[0;34m:\u001b[0m \u001b[0;34m[\u001b[0m\u001b[0mx\u001b[0m\u001b[0;34m[\u001b[0m\u001b[0;36m0\u001b[0m\u001b[0;34m]\u001b[0m\u001b[0;34m,\u001b[0m \u001b[0mjson_string_to_dense_vector\u001b[0m\u001b[0;34m(\u001b[0m\u001b[0;34m[\u001b[0m\u001b[0mx\u001b[0m\u001b[0;34m[\u001b[0m\u001b[0;36m1\u001b[0m\u001b[0;34m]\u001b[0m\u001b[0;34m]\u001b[0m\u001b[0;34m,\u001b[0m \u001b[0;36m1939\u001b[0m\u001b[0;34m)\u001b[0m\u001b[0;34m,\u001b[0m \u001b[0mx\u001b[0m\u001b[0;34m[\u001b[0m\u001b[0;36m2\u001b[0m\u001b[0;34m]\u001b[0m\u001b[0;34m]\u001b[0m\u001b[0;34m,\u001b[0m \u001b[0maxis\u001b[0m\u001b[0;34m=\u001b[0m\u001b[0;36m1\u001b[0m\u001b[0;34m,\u001b[0m \u001b[0mresult_type\u001b[0m\u001b[0;34m=\u001b[0m\u001b[0;34m'expand'\u001b[0m\u001b[0;34m)\u001b[0m\u001b[0;34m.\u001b[0m\u001b[0mgroupby\u001b[0m\u001b[0;34m(\u001b[0m\u001b[0mby\u001b[0m\u001b[0;34m=\u001b[0m\u001b[0;34m[\u001b[0m\u001b[0;34m'0'\u001b[0m\u001b[0;34m]\u001b[0m\u001b[0;34m)\u001b[0m\u001b[0;34m\u001b[0m\u001b[0;34m\u001b[0m\u001b[0m\n\u001b[0m\u001b[1;32m      2\u001b[0m \u001b[0;32mprint\u001b[0m\u001b[0;34m(\u001b[0m\u001b[0mt\u001b[0m\u001b[0;34m.\u001b[0m\u001b[0mhead\u001b[0m\u001b[0;34m(\u001b[0m\u001b[0;34m)\u001b[0m\u001b[0;34m)\u001b[0m\u001b[0;34m\u001b[0m\u001b[0;34m\u001b[0m\u001b[0m\n",
      "\u001b[0;32m<ipython-input-22-875b3d0e3598>\u001b[0m in \u001b[0;36mjson_string_to_dense_vector\u001b[0;34m(string_vector, dimensions)\u001b[0m\n\u001b[1;32m     12\u001b[0m         \u001b[0;32mreturn\u001b[0m \u001b[0mvector\u001b[0m\u001b[0;34m\u001b[0m\u001b[0;34m\u001b[0m\u001b[0m\n\u001b[1;32m     13\u001b[0m \u001b[0;34m\u001b[0m\u001b[0m\n\u001b[0;32m---> 14\u001b[0;31m     \u001b[0mx\u001b[0m \u001b[0;34m=\u001b[0m \u001b[0mjson\u001b[0m\u001b[0;34m.\u001b[0m\u001b[0mloads\u001b[0m\u001b[0;34m(\u001b[0m\u001b[0mstring_vector\u001b[0m\u001b[0;34m)\u001b[0m\u001b[0;34m\u001b[0m\u001b[0;34m\u001b[0m\u001b[0m\n\u001b[0m\u001b[1;32m     15\u001b[0m \u001b[0;34m\u001b[0m\u001b[0m\n\u001b[1;32m     16\u001b[0m     \u001b[0;32mfor\u001b[0m \u001b[0melement\u001b[0m \u001b[0;32min\u001b[0m \u001b[0mx\u001b[0m\u001b[0;34m:\u001b[0m\u001b[0;34m\u001b[0m\u001b[0;34m\u001b[0m\u001b[0m\n",
      "\u001b[0;32m/usr/lib/python2.7/json/__init__.pyc\u001b[0m in \u001b[0;36mloads\u001b[0;34m(s, encoding, cls, object_hook, parse_float, parse_int, parse_constant, object_pairs_hook, **kw)\u001b[0m\n\u001b[1;32m    337\u001b[0m             \u001b[0mparse_int\u001b[0m \u001b[0;32mis\u001b[0m \u001b[0mNone\u001b[0m \u001b[0;32mand\u001b[0m \u001b[0mparse_float\u001b[0m \u001b[0;32mis\u001b[0m \u001b[0mNone\u001b[0m \u001b[0;32mand\u001b[0m\u001b[0;34m\u001b[0m\u001b[0;34m\u001b[0m\u001b[0m\n\u001b[1;32m    338\u001b[0m             parse_constant is None and object_pairs_hook is None and not kw):\n\u001b[0;32m--> 339\u001b[0;31m         \u001b[0;32mreturn\u001b[0m \u001b[0m_default_decoder\u001b[0m\u001b[0;34m.\u001b[0m\u001b[0mdecode\u001b[0m\u001b[0;34m(\u001b[0m\u001b[0ms\u001b[0m\u001b[0;34m)\u001b[0m\u001b[0;34m\u001b[0m\u001b[0;34m\u001b[0m\u001b[0m\n\u001b[0m\u001b[1;32m    340\u001b[0m     \u001b[0;32mif\u001b[0m \u001b[0mcls\u001b[0m \u001b[0;32mis\u001b[0m \u001b[0mNone\u001b[0m\u001b[0;34m:\u001b[0m\u001b[0;34m\u001b[0m\u001b[0;34m\u001b[0m\u001b[0m\n\u001b[1;32m    341\u001b[0m         \u001b[0mcls\u001b[0m \u001b[0;34m=\u001b[0m \u001b[0mJSONDecoder\u001b[0m\u001b[0;34m\u001b[0m\u001b[0;34m\u001b[0m\u001b[0m\n",
      "\u001b[0;32m/usr/lib/python2.7/json/decoder.pyc\u001b[0m in \u001b[0;36mdecode\u001b[0;34m(self, s, _w)\u001b[0m\n\u001b[1;32m    362\u001b[0m \u001b[0;34m\u001b[0m\u001b[0m\n\u001b[1;32m    363\u001b[0m         \"\"\"\n\u001b[0;32m--> 364\u001b[0;31m         \u001b[0mobj\u001b[0m\u001b[0;34m,\u001b[0m \u001b[0mend\u001b[0m \u001b[0;34m=\u001b[0m \u001b[0mself\u001b[0m\u001b[0;34m.\u001b[0m\u001b[0mraw_decode\u001b[0m\u001b[0;34m(\u001b[0m\u001b[0ms\u001b[0m\u001b[0;34m,\u001b[0m \u001b[0midx\u001b[0m\u001b[0;34m=\u001b[0m\u001b[0m_w\u001b[0m\u001b[0;34m(\u001b[0m\u001b[0ms\u001b[0m\u001b[0;34m,\u001b[0m \u001b[0;36m0\u001b[0m\u001b[0;34m)\u001b[0m\u001b[0;34m.\u001b[0m\u001b[0mend\u001b[0m\u001b[0;34m(\u001b[0m\u001b[0;34m)\u001b[0m\u001b[0;34m)\u001b[0m\u001b[0;34m\u001b[0m\u001b[0;34m\u001b[0m\u001b[0m\n\u001b[0m\u001b[1;32m    365\u001b[0m         \u001b[0mend\u001b[0m \u001b[0;34m=\u001b[0m \u001b[0m_w\u001b[0m\u001b[0;34m(\u001b[0m\u001b[0ms\u001b[0m\u001b[0;34m,\u001b[0m \u001b[0mend\u001b[0m\u001b[0;34m)\u001b[0m\u001b[0;34m.\u001b[0m\u001b[0mend\u001b[0m\u001b[0;34m(\u001b[0m\u001b[0;34m)\u001b[0m\u001b[0;34m\u001b[0m\u001b[0;34m\u001b[0m\u001b[0m\n\u001b[1;32m    366\u001b[0m         \u001b[0;32mif\u001b[0m \u001b[0mend\u001b[0m \u001b[0;34m!=\u001b[0m \u001b[0mlen\u001b[0m\u001b[0;34m(\u001b[0m\u001b[0ms\u001b[0m\u001b[0;34m)\u001b[0m\u001b[0;34m:\u001b[0m\u001b[0;34m\u001b[0m\u001b[0;34m\u001b[0m\u001b[0m\n",
      "\u001b[0;31mTypeError\u001b[0m: ('expected string or buffer', u'occurred at index 0')"
     ]
    }
   ],
   "source": [
    "# apply into each row of explicit_recobell_df\n",
    "t = explicit_recobell_df.apply(lambda x: [x[0], json_string_to_dense_vector([x[1]], 1939), x[2]], axis=1, result_type='expand').groupby(by=['0'])\n",
    "print(t.head())"
   ]
  },
  {
   "cell_type": "code",
   "execution_count": 22,
   "metadata": {},
   "outputs": [
    {
     "data": {
      "text/html": [
       "<div>\n",
       "<style scoped>\n",
       "    .dataframe tbody tr th:only-of-type {\n",
       "        vertical-align: middle;\n",
       "    }\n",
       "\n",
       "    .dataframe tbody tr th {\n",
       "        vertical-align: top;\n",
       "    }\n",
       "\n",
       "    .dataframe thead th {\n",
       "        text-align: right;\n",
       "    }\n",
       "</style>\n",
       "<table border=\"1\" class=\"dataframe\">\n",
       "  <thead>\n",
       "    <tr style=\"text-align: right;\">\n",
       "      <th></th>\n",
       "      <th>server_time</th>\n",
       "      <th>device</th>\n",
       "      <th>session_id</th>\n",
       "      <th>uid</th>\n",
       "      <th>itemid</th>\n",
       "    </tr>\n",
       "  </thead>\n",
       "  <tbody>\n",
       "    <tr>\n",
       "      <th>0</th>\n",
       "      <td>2016-08-13 12:38:47.512</td>\n",
       "      <td>MA</td>\n",
       "      <td>bgF9eb8ynC</td>\n",
       "      <td>b15f9e5</td>\n",
       "      <td>d9886b1</td>\n",
       "    </tr>\n",
       "    <tr>\n",
       "      <th>1</th>\n",
       "      <td>2016-08-14 13:41:34.30</td>\n",
       "      <td>MA</td>\n",
       "      <td>yzbfOf5b4e</td>\n",
       "      <td>8007201</td>\n",
       "      <td>e295b87</td>\n",
       "    </tr>\n",
       "    <tr>\n",
       "      <th>2</th>\n",
       "      <td>2016-08-14 13:37:57.682</td>\n",
       "      <td>MA</td>\n",
       "      <td>yzbfOf5b4e</td>\n",
       "      <td>8007201</td>\n",
       "      <td>cedc044</td>\n",
       "    </tr>\n",
       "    <tr>\n",
       "      <th>3</th>\n",
       "      <td>2016-08-11 19:04:41.939</td>\n",
       "      <td>MA</td>\n",
       "      <td>YBpaGQxzg3</td>\n",
       "      <td>99055ba</td>\n",
       "      <td>4f3ecec</td>\n",
       "    </tr>\n",
       "    <tr>\n",
       "      <th>4</th>\n",
       "      <td>2016-08-11 18:57:11.63</td>\n",
       "      <td>MA</td>\n",
       "      <td>YBpaGQxzg3</td>\n",
       "      <td>99055ba</td>\n",
       "      <td>ee3f827</td>\n",
       "    </tr>\n",
       "  </tbody>\n",
       "</table>\n",
       "</div>"
      ],
      "text/plain": [
       "               server_time device  session_id      uid   itemid\n",
       "0  2016-08-13 12:38:47.512     MA  bgF9eb8ynC  b15f9e5  d9886b1\n",
       "1   2016-08-14 13:41:34.30     MA  yzbfOf5b4e  8007201  e295b87\n",
       "2  2016-08-14 13:37:57.682     MA  yzbfOf5b4e  8007201  cedc044\n",
       "3  2016-08-11 19:04:41.939     MA  YBpaGQxzg3  99055ba  4f3ecec\n",
       "4   2016-08-11 18:57:11.63     MA  YBpaGQxzg3  99055ba  ee3f827"
      ]
     },
     "execution_count": 22,
     "metadata": {},
     "output_type": "execute_result"
    }
   ],
   "source": [
    "# item_recobell_df = pd.read_csv(recobell_root_path + 'raw_data/site_product.csv000', header=None, names=['itemid', 'price', 'cat1', 'cat2', 'cat3', 'cat4', 'brandid'])\n",
    "# view_recobell_df = pd.read_csv(recobell_root_path + 'raw_data/tiny_site_view_log.csv000', header=None, names=['server_time', 'device', 'session_id', 'uid', 'itemid'])\n",
    "order_recobell_df = pd.read_csv(recobell_root_path + 'raw_data/tiny_site_order_log.csv000', header=None, names=['server_time', 'device', 'session_id', 'uid', 'itemid', 'order_id', 'quantity'])\n",
    "view_recobell_df.head()\n",
    "# preprocessing with recobell datasets"
   ]
  },
  {
   "cell_type": "code",
   "execution_count": 3,
   "metadata": {},
   "outputs": [
    {
     "data": {
      "text/plain": [
       "itemid     422516\n",
       "price       24607\n",
       "cat1           18\n",
       "cat2           80\n",
       "cat3          342\n",
       "cat4         1499\n",
       "brandid     10584\n",
       "dtype: int64"
      ]
     },
     "execution_count": 3,
     "metadata": {},
     "output_type": "execute_result"
    }
   ],
   "source": [
    "item_recobell_df.nunique()"
   ]
  },
  {
   "cell_type": "code",
   "execution_count": 18,
   "metadata": {},
   "outputs": [
    {
     "data": {
      "text/html": [
       "<div>\n",
       "<style scoped>\n",
       "    .dataframe tbody tr th:only-of-type {\n",
       "        vertical-align: middle;\n",
       "    }\n",
       "\n",
       "    .dataframe tbody tr th {\n",
       "        vertical-align: top;\n",
       "    }\n",
       "\n",
       "    .dataframe thead th {\n",
       "        text-align: right;\n",
       "    }\n",
       "</style>\n",
       "<table border=\"1\" class=\"dataframe\">\n",
       "  <thead>\n",
       "    <tr style=\"text-align: right;\">\n",
       "      <th></th>\n",
       "      <th>itemid</th>\n",
       "      <th>repr</th>\n",
       "    </tr>\n",
       "  </thead>\n",
       "  <tbody>\n",
       "    <tr>\n",
       "      <th>0</th>\n",
       "      <td>5919d61</td>\n",
       "      <td>[[17, 0.25], [80, 0.25], [219, 0.25], [464, 0....</td>\n",
       "    </tr>\n",
       "    <tr>\n",
       "      <th>1</th>\n",
       "      <td>1073c34</td>\n",
       "      <td>[[16, 0.25], [46, 0.25], [335, 0.25], [1892, 0...</td>\n",
       "    </tr>\n",
       "    <tr>\n",
       "      <th>2</th>\n",
       "      <td>559fc56</td>\n",
       "      <td>[[9, 0.25], [83, 0.25], [153, 0.25], [1854, 0....</td>\n",
       "    </tr>\n",
       "    <tr>\n",
       "      <th>3</th>\n",
       "      <td>67da1f9</td>\n",
       "      <td>[[6, 0.25], [82, 0.25], [249, 0.25], [832, 0.25]]</td>\n",
       "    </tr>\n",
       "    <tr>\n",
       "      <th>4</th>\n",
       "      <td>b5eaeaa</td>\n",
       "      <td>[[1, 0.25], [38, 0.25], [286, 0.25], [841, 0.25]]</td>\n",
       "    </tr>\n",
       "  </tbody>\n",
       "</table>\n",
       "</div>"
      ],
      "text/plain": [
       "    itemid                                               repr\n",
       "0  5919d61  [[17, 0.25], [80, 0.25], [219, 0.25], [464, 0....\n",
       "1  1073c34  [[16, 0.25], [46, 0.25], [335, 0.25], [1892, 0...\n",
       "2  559fc56  [[9, 0.25], [83, 0.25], [153, 0.25], [1854, 0....\n",
       "3  67da1f9  [[6, 0.25], [82, 0.25], [249, 0.25], [832, 0.25]]\n",
       "4  b5eaeaa  [[1, 0.25], [38, 0.25], [286, 0.25], [841, 0.25]]"
      ]
     },
     "execution_count": 18,
     "metadata": {},
     "output_type": "execute_result"
    }
   ],
   "source": [
    "active_item_df = pd.read_csv(recobell_root_path + 'item_repr.txt', header=None, names=['itemid', 'repr'], delimiter=',', quotechar='|')\n",
    "active_item_df.head()"
   ]
  },
  {
   "cell_type": "code",
   "execution_count": 33,
   "metadata": {},
   "outputs": [
    {
     "data": {
      "text/plain": [
       "itemid    118293\n",
       "repr      118293\n",
       "dtype: int64"
      ]
     },
     "execution_count": 33,
     "metadata": {},
     "output_type": "execute_result"
    }
   ],
   "source": [
    "z = active_item_df[active_item_df.itemid.isin(active_item_list)]\n",
    "z = z.drop_duplicates(['itemid'])\n",
    "z.count()"
   ]
  },
  {
   "cell_type": "code",
   "execution_count": 34,
   "metadata": {},
   "outputs": [
    {
     "data": {
      "text/html": [
       "<div>\n",
       "<style scoped>\n",
       "    .dataframe tbody tr th:only-of-type {\n",
       "        vertical-align: middle;\n",
       "    }\n",
       "\n",
       "    .dataframe tbody tr th {\n",
       "        vertical-align: top;\n",
       "    }\n",
       "\n",
       "    .dataframe thead th {\n",
       "        text-align: right;\n",
       "    }\n",
       "</style>\n",
       "<table border=\"1\" class=\"dataframe\">\n",
       "  <thead>\n",
       "    <tr style=\"text-align: right;\">\n",
       "      <th></th>\n",
       "      <th>0</th>\n",
       "      <th>1</th>\n",
       "    </tr>\n",
       "  </thead>\n",
       "  <tbody>\n",
       "    <tr>\n",
       "      <th>0</th>\n",
       "      <td>3506</td>\n",
       "      <td>[[17, 0.25], [80, 0.25], [219, 0.25], [464, 0....</td>\n",
       "    </tr>\n",
       "    <tr>\n",
       "      <th>1</th>\n",
       "      <td>2293</td>\n",
       "      <td>[[16, 0.25], [46, 0.25], [335, 0.25], [1892, 0...</td>\n",
       "    </tr>\n",
       "    <tr>\n",
       "      <th>2</th>\n",
       "      <td>6555</td>\n",
       "      <td>[[9, 0.25], [83, 0.25], [153, 0.25], [1854, 0....</td>\n",
       "    </tr>\n",
       "    <tr>\n",
       "      <th>3</th>\n",
       "      <td>8448</td>\n",
       "      <td>[[6, 0.25], [82, 0.25], [249, 0.25], [832, 0.25]]</td>\n",
       "    </tr>\n",
       "    <tr>\n",
       "      <th>4</th>\n",
       "      <td>1818</td>\n",
       "      <td>[[1, 0.25], [38, 0.25], [286, 0.25], [841, 0.25]]</td>\n",
       "    </tr>\n",
       "  </tbody>\n",
       "</table>\n",
       "</div>"
      ],
      "text/plain": [
       "      0                                                  1\n",
       "0  3506  [[17, 0.25], [80, 0.25], [219, 0.25], [464, 0....\n",
       "1  2293  [[16, 0.25], [46, 0.25], [335, 0.25], [1892, 0...\n",
       "2  6555  [[9, 0.25], [83, 0.25], [153, 0.25], [1854, 0....\n",
       "3  8448  [[6, 0.25], [82, 0.25], [249, 0.25], [832, 0.25]]\n",
       "4  1818  [[1, 0.25], [38, 0.25], [286, 0.25], [841, 0.25]]"
      ]
     },
     "execution_count": 34,
     "metadata": {},
     "output_type": "execute_result"
    }
   ],
   "source": [
    "t = z.apply(lambda x: [active_item_dict[x[0]], x[1]], axis=1, result_type='expand')\n",
    "t.head()"
   ]
  },
  {
   "cell_type": "code",
   "execution_count": 37,
   "metadata": {},
   "outputs": [],
   "source": [
    "import csv\n",
    "t.to_csv(recobell_root_path + 'item_repr.txt', index=False, header=False, quotechar='|', quoting=csv.QUOTE_ALL)"
   ]
  },
  {
   "cell_type": "code",
   "execution_count": 28,
   "metadata": {},
   "outputs": [
    {
     "data": {
      "text/plain": [
       "422516"
      ]
     },
     "execution_count": 28,
     "metadata": {},
     "output_type": "execute_result"
    }
   ],
   "source": [
    "y = active_item_df.loc[:, 'itemid'].drop_duplicates()\n",
    "y.count()"
   ]
  },
  {
   "cell_type": "code",
   "execution_count": 29,
   "metadata": {},
   "outputs": [
    {
     "name": "stdout",
     "output_type": "stream",
     "text": [
      "422516\n"
     ]
    }
   ],
   "source": [
    "x = y.tolist()\n",
    "print(len(x))"
   ]
  },
  {
   "cell_type": "code",
   "execution_count": 30,
   "metadata": {},
   "outputs": [
    {
     "data": {
      "text/plain": [
       "server_time    4521505\n",
       "device         4521505\n",
       "session_id     4521505\n",
       "uid            4521505\n",
       "itemid         4521505\n",
       "dtype: int64"
      ]
     },
     "execution_count": 30,
     "metadata": {},
     "output_type": "execute_result"
    }
   ],
   "source": [
    "new_view_df = view_recobell_df[view_recobell_df.itemid.isin(x)]\n",
    "new_order_df = order_recobell_df[order_recobell_df.itemid.isin(x)]\n",
    "new_view_df.count()"
   ]
  },
  {
   "cell_type": "code",
   "execution_count": 31,
   "metadata": {},
   "outputs": [],
   "source": [
    "new_view_df.to_csv(recobell_root_path + 'raw_data/new_tiny_site_view_log.csv000', index=False, header=False)\n",
    "new_order_df.to_csv(recobell_root_path + 'raw_data/new_tiny_site_order_log.csv000', index=False, header=False)"
   ]
  },
  {
   "cell_type": "code",
   "execution_count": 27,
   "metadata": {},
   "outputs": [
    {
     "data": {
      "text/html": [
       "<div>\n",
       "<style scoped>\n",
       "    .dataframe tbody tr th:only-of-type {\n",
       "        vertical-align: middle;\n",
       "    }\n",
       "\n",
       "    .dataframe tbody tr th {\n",
       "        vertical-align: top;\n",
       "    }\n",
       "\n",
       "    .dataframe thead th {\n",
       "        text-align: right;\n",
       "    }\n",
       "</style>\n",
       "<table border=\"1\" class=\"dataframe\">\n",
       "  <thead>\n",
       "    <tr style=\"text-align: right;\">\n",
       "      <th></th>\n",
       "      <th>itemid</th>\n",
       "      <th>repr</th>\n",
       "    </tr>\n",
       "  </thead>\n",
       "  <tbody>\n",
       "    <tr>\n",
       "      <th>0</th>\n",
       "      <td>5919d61</td>\n",
       "      <td>[[17, 0.25], [80, 0.25], [219, 0.25], [464, 0....</td>\n",
       "    </tr>\n",
       "    <tr>\n",
       "      <th>1</th>\n",
       "      <td>1073c34</td>\n",
       "      <td>[[16, 0.25], [46, 0.25], [335, 0.25], [1892, 0...</td>\n",
       "    </tr>\n",
       "    <tr>\n",
       "      <th>2</th>\n",
       "      <td>559fc56</td>\n",
       "      <td>[[9, 0.25], [83, 0.25], [153, 0.25], [1854, 0....</td>\n",
       "    </tr>\n",
       "    <tr>\n",
       "      <th>3</th>\n",
       "      <td>67da1f9</td>\n",
       "      <td>[[6, 0.25], [82, 0.25], [249, 0.25], [832, 0.25]]</td>\n",
       "    </tr>\n",
       "    <tr>\n",
       "      <th>4</th>\n",
       "      <td>b5eaeaa</td>\n",
       "      <td>[[1, 0.25], [38, 0.25], [286, 0.25], [841, 0.25]]</td>\n",
       "    </tr>\n",
       "  </tbody>\n",
       "</table>\n",
       "</div>"
      ],
      "text/plain": [
       "    itemid                                               repr\n",
       "0  5919d61  [[17, 0.25], [80, 0.25], [219, 0.25], [464, 0....\n",
       "1  1073c34  [[16, 0.25], [46, 0.25], [335, 0.25], [1892, 0...\n",
       "2  559fc56  [[9, 0.25], [83, 0.25], [153, 0.25], [1854, 0....\n",
       "3  67da1f9  [[6, 0.25], [82, 0.25], [249, 0.25], [832, 0.25]]\n",
       "4  b5eaeaa  [[1, 0.25], [38, 0.25], [286, 0.25], [841, 0.25]]"
      ]
     },
     "execution_count": 27,
     "metadata": {},
     "output_type": "execute_result"
    }
   ],
   "source": [
    "z.head()"
   ]
  },
  {
   "cell_type": "code",
   "execution_count": null,
   "metadata": {},
   "outputs": [],
   "source": [
    "z.to_csv(recobell_root_path + 'item_repr.txt', index=False, header=False)"
   ]
  },
  {
   "cell_type": "code",
   "execution_count": 61,
   "metadata": {},
   "outputs": [],
   "source": [
    "a =  item_recobell_df.loc[:, ['cat2', 'cat3']]\n",
    "x =  item_recobell_df.loc[:, ['cat2']]"
   ]
  },
  {
   "cell_type": "code",
   "execution_count": 63,
   "metadata": {
    "collapsed": true
   },
   "outputs": [
    {
     "data": {
      "text/html": [
       "<div>\n",
       "<style scoped>\n",
       "    .dataframe tbody tr th:only-of-type {\n",
       "        vertical-align: middle;\n",
       "    }\n",
       "\n",
       "    .dataframe tbody tr th {\n",
       "        vertical-align: top;\n",
       "    }\n",
       "\n",
       "    .dataframe thead th {\n",
       "        text-align: right;\n",
       "    }\n",
       "</style>\n",
       "<table border=\"1\" class=\"dataframe\">\n",
       "  <thead>\n",
       "    <tr style=\"text-align: right;\">\n",
       "      <th></th>\n",
       "      <th>cat2</th>\n",
       "    </tr>\n",
       "    <tr>\n",
       "      <th>cat3</th>\n",
       "      <th></th>\n",
       "    </tr>\n",
       "  </thead>\n",
       "  <tbody>\n",
       "    <tr>\n",
       "      <th>0ea22c8</th>\n",
       "      <td>2</td>\n",
       "    </tr>\n",
       "    <tr>\n",
       "      <th>142a302</th>\n",
       "      <td>2</td>\n",
       "    </tr>\n",
       "    <tr>\n",
       "      <th>23bebb0</th>\n",
       "      <td>2</td>\n",
       "    </tr>\n",
       "    <tr>\n",
       "      <th>3919b77</th>\n",
       "      <td>2</td>\n",
       "    </tr>\n",
       "    <tr>\n",
       "      <th>44650a9</th>\n",
       "      <td>7</td>\n",
       "    </tr>\n",
       "    <tr>\n",
       "      <th>512f480</th>\n",
       "      <td>2</td>\n",
       "    </tr>\n",
       "    <tr>\n",
       "      <th>58961c3</th>\n",
       "      <td>2</td>\n",
       "    </tr>\n",
       "    <tr>\n",
       "      <th>5b889c3</th>\n",
       "      <td>2</td>\n",
       "    </tr>\n",
       "    <tr>\n",
       "      <th>7efeb2d</th>\n",
       "      <td>3</td>\n",
       "    </tr>\n",
       "    <tr>\n",
       "      <th>9ea0ca2</th>\n",
       "      <td>2</td>\n",
       "    </tr>\n",
       "    <tr>\n",
       "      <th>aaba489</th>\n",
       "      <td>7</td>\n",
       "    </tr>\n",
       "    <tr>\n",
       "      <th>ce186c5</th>\n",
       "      <td>2</td>\n",
       "    </tr>\n",
       "    <tr>\n",
       "      <th>dcbae73</th>\n",
       "      <td>2</td>\n",
       "    </tr>\n",
       "    <tr>\n",
       "      <th>fac1ca9</th>\n",
       "      <td>2</td>\n",
       "    </tr>\n",
       "  </tbody>\n",
       "</table>\n",
       "</div>"
      ],
      "text/plain": [
       "         cat2\n",
       "cat3         \n",
       "0ea22c8     2\n",
       "142a302     2\n",
       "23bebb0     2\n",
       "3919b77     2\n",
       "44650a9     7\n",
       "512f480     2\n",
       "58961c3     2\n",
       "5b889c3     2\n",
       "7efeb2d     3\n",
       "9ea0ca2     2\n",
       "aaba489     7\n",
       "ce186c5     2\n",
       "dcbae73     2\n",
       "fac1ca9     2"
      ]
     },
     "execution_count": 63,
     "metadata": {},
     "output_type": "execute_result"
    }
   ],
   "source": [
    "y = a.drop_duplicates().groupby(['cat3']).count()\n",
    "y.loc[y.cat2 > 1]"
   ]
  },
  {
   "cell_type": "code",
   "execution_count": 59,
   "metadata": {},
   "outputs": [
    {
     "data": {
      "text/html": [
       "<div>\n",
       "<style scoped>\n",
       "    .dataframe tbody tr th:only-of-type {\n",
       "        vertical-align: middle;\n",
       "    }\n",
       "\n",
       "    .dataframe tbody tr th {\n",
       "        vertical-align: top;\n",
       "    }\n",
       "\n",
       "    .dataframe thead th {\n",
       "        text-align: right;\n",
       "    }\n",
       "</style>\n",
       "<table border=\"1\" class=\"dataframe\">\n",
       "  <thead>\n",
       "    <tr style=\"text-align: right;\">\n",
       "      <th></th>\n",
       "      <th>itemid</th>\n",
       "      <th>price</th>\n",
       "      <th>cat1</th>\n",
       "      <th>cat2</th>\n",
       "      <th>cat3</th>\n",
       "      <th>cat4</th>\n",
       "      <th>brandid</th>\n",
       "    </tr>\n",
       "  </thead>\n",
       "  <tbody>\n",
       "    <tr>\n",
       "      <th>9</th>\n",
       "      <td>eb32384</td>\n",
       "      <td>67410</td>\n",
       "      <td>d9d0ba9</td>\n",
       "      <td>bd0b0a5</td>\n",
       "      <td>f1c99bd</td>\n",
       "      <td>af4f9f8</td>\n",
       "      <td>7a9f4fc</td>\n",
       "    </tr>\n",
       "    <tr>\n",
       "      <th>114195</th>\n",
       "      <td>257677b</td>\n",
       "      <td>39000</td>\n",
       "      <td>66dd73d</td>\n",
       "      <td>bd0b0a5</td>\n",
       "      <td>58961c3</td>\n",
       "      <td>a457db3</td>\n",
       "      <td>fd23080</td>\n",
       "    </tr>\n",
       "  </tbody>\n",
       "</table>\n",
       "</div>"
      ],
      "text/plain": [
       "         itemid  price     cat1     cat2     cat3     cat4  brandid\n",
       "9       eb32384  67410  d9d0ba9  bd0b0a5  f1c99bd  af4f9f8  7a9f4fc\n",
       "114195  257677b  39000  66dd73d  bd0b0a5  58961c3  a457db3  fd23080"
      ]
     },
     "execution_count": 59,
     "metadata": {},
     "output_type": "execute_result"
    }
   ],
   "source": [
    "item_recobell_df[item_recobell_df.cat2 == 'bd0b0a5'].drop_duplicates(['cat1', 'cat2'])"
   ]
  },
  {
   "cell_type": "code",
   "execution_count": 38,
   "metadata": {},
   "outputs": [],
   "source": [
    "b = set(item_recobell_df.cat1) | set(item_recobell_df.cat2) | set(item_recobell_df.cat3) | set(item_recobell_df.cat4)"
   ]
  },
  {
   "cell_type": "code",
   "execution_count": 39,
   "metadata": {},
   "outputs": [
    {
     "data": {
      "text/plain": [
       "1838"
      ]
     },
     "execution_count": 39,
     "metadata": {},
     "output_type": "execute_result"
    }
   ],
   "source": [
    "len(b)"
   ]
  },
  {
   "cell_type": "code",
   "execution_count": 10,
   "metadata": {},
   "outputs": [],
   "source": [
    "c = list(set(item_recobell_df.cat1))"
   ]
  },
  {
   "cell_type": "code",
   "execution_count": 1,
   "metadata": {},
   "outputs": [
    {
     "ename": "NameError",
     "evalue": "name 'c' is not defined",
     "output_type": "error",
     "traceback": [
      "\u001b[0;31m-----------------------------------------------------------\u001b[0m",
      "\u001b[0;31mNameError\u001b[0m                 Traceback (most recent call last)",
      "\u001b[0;32m<ipython-input-1-92c2e50b49c8>\u001b[0m in \u001b[0;36m<module>\u001b[0;34m()\u001b[0m\n\u001b[0;32m----> 1\u001b[0;31m \u001b[0mlen\u001b[0m\u001b[0;34m(\u001b[0m\u001b[0mc\u001b[0m\u001b[0;34m)\u001b[0m\u001b[0;34m\u001b[0m\u001b[0;34m\u001b[0m\u001b[0m\n\u001b[0m\u001b[1;32m      2\u001b[0m \u001b[0mc\u001b[0m\u001b[0;34m\u001b[0m\u001b[0;34m\u001b[0m\u001b[0m\n",
      "\u001b[0;31mNameError\u001b[0m: name 'c' is not defined"
     ]
    }
   ],
   "source": [
    "len(c)\n",
    "c"
   ]
  },
  {
   "cell_type": "markdown",
   "metadata": {},
   "source": [
    "# Pre-process for movielens data"
   ]
  },
  {
   "cell_type": "code",
   "execution_count": 3,
   "metadata": {},
   "outputs": [
    {
     "data": {
      "text/html": [
       "<div>\n",
       "<style scoped>\n",
       "    .dataframe tbody tr th:only-of-type {\n",
       "        vertical-align: middle;\n",
       "    }\n",
       "\n",
       "    .dataframe tbody tr th {\n",
       "        vertical-align: top;\n",
       "    }\n",
       "\n",
       "    .dataframe thead th {\n",
       "        text-align: right;\n",
       "    }\n",
       "</style>\n",
       "<table border=\"1\" class=\"dataframe\">\n",
       "  <thead>\n",
       "    <tr style=\"text-align: right;\">\n",
       "      <th></th>\n",
       "      <th>uid</th>\n",
       "      <th>itemid</th>\n",
       "      <th>rating</th>\n",
       "      <th>server_time</th>\n",
       "    </tr>\n",
       "  </thead>\n",
       "  <tbody>\n",
       "    <tr>\n",
       "      <th>0</th>\n",
       "      <td>1</td>\n",
       "      <td>1193</td>\n",
       "      <td>5</td>\n",
       "      <td>978300760</td>\n",
       "    </tr>\n",
       "    <tr>\n",
       "      <th>1</th>\n",
       "      <td>1</td>\n",
       "      <td>661</td>\n",
       "      <td>3</td>\n",
       "      <td>978302109</td>\n",
       "    </tr>\n",
       "    <tr>\n",
       "      <th>2</th>\n",
       "      <td>1</td>\n",
       "      <td>914</td>\n",
       "      <td>3</td>\n",
       "      <td>978301968</td>\n",
       "    </tr>\n",
       "    <tr>\n",
       "      <th>3</th>\n",
       "      <td>1</td>\n",
       "      <td>3408</td>\n",
       "      <td>4</td>\n",
       "      <td>978300275</td>\n",
       "    </tr>\n",
       "    <tr>\n",
       "      <th>4</th>\n",
       "      <td>1</td>\n",
       "      <td>2355</td>\n",
       "      <td>5</td>\n",
       "      <td>978824291</td>\n",
       "    </tr>\n",
       "  </tbody>\n",
       "</table>\n",
       "</div>"
      ],
      "text/plain": [
       "   uid  itemid  rating  server_time\n",
       "0    1    1193       5    978300760\n",
       "1    1     661       3    978302109\n",
       "2    1     914       3    978301968\n",
       "3    1    3408       4    978300275\n",
       "4    1    2355       5    978824291"
      ]
     },
     "execution_count": 3,
     "metadata": {},
     "output_type": "execute_result"
    }
   ],
   "source": [
    "ratings.head()"
   ]
  },
  {
   "cell_type": "code",
   "execution_count": 4,
   "metadata": {},
   "outputs": [
    {
     "data": {
      "text/html": [
       "<div>\n",
       "<style scoped>\n",
       "    .dataframe tbody tr th:only-of-type {\n",
       "        vertical-align: middle;\n",
       "    }\n",
       "\n",
       "    .dataframe tbody tr th {\n",
       "        vertical-align: top;\n",
       "    }\n",
       "\n",
       "    .dataframe thead th {\n",
       "        text-align: right;\n",
       "    }\n",
       "</style>\n",
       "<table border=\"1\" class=\"dataframe\">\n",
       "  <thead>\n",
       "    <tr style=\"text-align: right;\">\n",
       "      <th></th>\n",
       "      <th>rating</th>\n",
       "    </tr>\n",
       "    <tr>\n",
       "      <th>uid</th>\n",
       "      <th></th>\n",
       "    </tr>\n",
       "  </thead>\n",
       "  <tbody>\n",
       "  </tbody>\n",
       "</table>\n",
       "</div>"
      ],
      "text/plain": [
       "Empty DataFrame\n",
       "Columns: [rating]\n",
       "Index: []"
      ]
     },
     "execution_count": 4,
     "metadata": {},
     "output_type": "execute_result"
    }
   ],
   "source": [
    "count_rating = ratings.groupby(['uid'])[['rating']].count()\n",
    "count_rating[count_rating['rating'] < 20]"
   ]
  },
  {
   "cell_type": "code",
   "execution_count": 5,
   "metadata": {},
   "outputs": [
    {
     "data": {
      "text/html": [
       "<div>\n",
       "<style scoped>\n",
       "    .dataframe tbody tr th:only-of-type {\n",
       "        vertical-align: middle;\n",
       "    }\n",
       "\n",
       "    .dataframe tbody tr th {\n",
       "        vertical-align: top;\n",
       "    }\n",
       "\n",
       "    .dataframe thead th {\n",
       "        text-align: right;\n",
       "    }\n",
       "</style>\n",
       "<table border=\"1\" class=\"dataframe\">\n",
       "  <thead>\n",
       "    <tr style=\"text-align: right;\">\n",
       "      <th></th>\n",
       "      <th>rating</th>\n",
       "      <th>uid</th>\n",
       "    </tr>\n",
       "    <tr>\n",
       "      <th>uid</th>\n",
       "      <th></th>\n",
       "      <th></th>\n",
       "    </tr>\n",
       "  </thead>\n",
       "  <tbody>\n",
       "    <tr>\n",
       "      <th>2744</th>\n",
       "      <td>1.304348</td>\n",
       "      <td>2744</td>\n",
       "    </tr>\n",
       "    <tr>\n",
       "      <th>3598</th>\n",
       "      <td>1.015385</td>\n",
       "      <td>3598</td>\n",
       "    </tr>\n",
       "    <tr>\n",
       "      <th>4349</th>\n",
       "      <td>1.962963</td>\n",
       "      <td>4349</td>\n",
       "    </tr>\n",
       "    <tr>\n",
       "      <th>4486</th>\n",
       "      <td>1.058824</td>\n",
       "      <td>4486</td>\n",
       "    </tr>\n",
       "    <tr>\n",
       "      <th>4539</th>\n",
       "      <td>1.815126</td>\n",
       "      <td>4539</td>\n",
       "    </tr>\n",
       "    <tr>\n",
       "      <th>5334</th>\n",
       "      <td>1.927273</td>\n",
       "      <td>5334</td>\n",
       "    </tr>\n",
       "    <tr>\n",
       "      <th>5850</th>\n",
       "      <td>1.844828</td>\n",
       "      <td>5850</td>\n",
       "    </tr>\n",
       "  </tbody>\n",
       "</table>\n",
       "</div>"
      ],
      "text/plain": [
       "        rating   uid\n",
       "uid                 \n",
       "2744  1.304348  2744\n",
       "3598  1.015385  3598\n",
       "4349  1.962963  4349\n",
       "4486  1.058824  4486\n",
       "4539  1.815126  4539\n",
       "5334  1.927273  5334\n",
       "5850  1.844828  5850"
      ]
     },
     "execution_count": 5,
     "metadata": {},
     "output_type": "execute_result"
    }
   ],
   "source": [
    "mean_rating = ratings.groupby(['uid']).agg({'rating': 'mean'})\n",
    "mean_rating['uid'] = mean_rating.index\n",
    "mean_rating[mean_rating['rating'] < 2]\n",
    "\n",
    "# ratings[ratings['uid'] == 2744]"
   ]
  },
  {
   "cell_type": "code",
   "execution_count": 7,
   "metadata": {},
   "outputs": [
    {
     "data": {
      "text/plain": [
       "2314"
      ]
     },
     "execution_count": 7,
     "metadata": {},
     "output_type": "execute_result"
    }
   ],
   "source": [
    "count_rating['rating'].max()"
   ]
  },
  {
   "cell_type": "code",
   "execution_count": 8,
   "metadata": {},
   "outputs": [
    {
     "data": {
      "text/plain": [
       "20"
      ]
     },
     "execution_count": 8,
     "metadata": {},
     "output_type": "execute_result"
    }
   ],
   "source": [
    "count_rating['rating'].min()"
   ]
  },
  {
   "cell_type": "code",
   "execution_count": 48,
   "metadata": {
    "scrolled": true
   },
   "outputs": [
    {
     "name": "stdout",
     "output_type": "stream",
     "text": [
      "6040\n"
     ]
    }
   ],
   "source": [
    "mean_rating\n",
    "with open(ml_1m_root_path + 'u2index.txt') as f:\n",
    "    active_user_dict = {int(line.split(',')[0]): int(line.split(',')[1]) for line in f}\n",
    "active_user_list = active_user_dict.keys()\n",
    "print(len(active_user_list))\n",
    "new_mean_rating = mean_rating.apply(lambda x: pd.Series([active_user_dict[x['uid']], x['rating']], index=['uid', 'rating']), axis=1)"
   ]
  },
  {
   "cell_type": "code",
   "execution_count": 55,
   "metadata": {},
   "outputs": [],
   "source": [
    "new_mean_rating['uid'] = new_mean_rating['uid'].apply(lambda x: int(x))"
   ]
  },
  {
   "cell_type": "code",
   "execution_count": 6,
   "metadata": {},
   "outputs": [],
   "source": [
    "mean_rating.to_csv(ml_1m_root_path + 'user_mean_rating.txt', header=False, index=False, quotechar='|', quoting=csv.QUOTE_ALL)"
   ]
  },
  {
   "cell_type": "code",
   "execution_count": null,
   "metadata": {},
   "outputs": [],
   "source": []
  }
 ],
 "metadata": {
  "kernelspec": {
   "display_name": "Python 3",
   "language": "python",
   "name": "python3"
  },
  "language_info": {
   "codemirror_mode": {
    "name": "ipython",
    "version": 2
   },
   "file_extension": ".py",
   "mimetype": "text/x-python",
   "name": "python",
   "nbconvert_exporter": "python",
   "pygments_lexer": "ipython2",
   "version": "2.7.15+"
  }
 },
 "nbformat": 4,
 "nbformat_minor": 2
}
